{
 "cells": [
  {
   "cell_type": "code",
   "execution_count": 1,
   "metadata": {},
   "outputs": [],
   "source": [
    "import numpy as np\n",
    "import pandas as pd\n",
    "import time\n",
    "from tensorflow import keras\n",
    "\n",
    "def print_weights(weights):\n",
    "    print('\\n******* WEIGHTS OF ANN *******\\n')\n",
    "    for i in range(int(len(weights)/2)):\n",
    "        print('Weights W%d:\\n' %(i), weights[i*2])\n",
    "        print('Bias b%d:\\n' %(i), weights[(i*2)+1])"
   ]
  },
  {
   "cell_type": "code",
   "execution_count": 2,
   "metadata": {},
   "outputs": [],
   "source": [
    "#%% DATA EXTRACTION\n",
    "historical_data_file = 'AAPL.csv'\n",
    "\n",
    "## load the historical stock data\n",
    "df = pd.read_csv(historical_data_file)"
   ]
  },
  {
   "cell_type": "code",
   "execution_count": 3,
   "metadata": {},
   "outputs": [],
   "source": [
    "## keep only the closing prices\n",
    "df = df[['Close']]"
   ]
  },
  {
   "cell_type": "code",
   "execution_count": 4,
   "metadata": {},
   "outputs": [
    {
     "name": "stdout",
     "output_type": "stream",
     "text": [
      "          Close\n",
      "0     57.522499\n",
      "1     59.052502\n",
      "2     58.967499\n",
      "3     58.830002\n",
      "4     58.592499\n",
      "..          ...\n",
      "248  116.500000\n",
      "249  113.160004\n",
      "250  115.080002\n",
      "251  114.970001\n",
      "252  116.970001\n",
      "\n",
      "[253 rows x 1 columns]\n"
     ]
    }
   ],
   "source": [
    "print(df)"
   ]
  },
  {
   "cell_type": "code",
   "execution_count": null,
   "metadata": {},
   "outputs": [],
   "source": []
  }
 ],
 "metadata": {
  "kernelspec": {
   "display_name": "Python 3",
   "language": "python",
   "name": "python3"
  },
  "language_info": {
   "codemirror_mode": {
    "name": "ipython",
    "version": 3
   },
   "file_extension": ".py",
   "mimetype": "text/x-python",
   "name": "python",
   "nbconvert_exporter": "python",
   "pygments_lexer": "ipython3",
   "version": "3.7.9"
  }
 },
 "nbformat": 4,
 "nbformat_minor": 4
}
